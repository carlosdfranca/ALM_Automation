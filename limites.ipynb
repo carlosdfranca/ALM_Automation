{
 "cells": [
  {
   "cell_type": "code",
   "execution_count": 155,
   "id": "87050d4d",
   "metadata": {},
   "outputs": [
    {
     "name": "stdout",
     "output_type": "stream",
     "text": [
      "[0.1441535784160751, 0.34362809643015507, 0.2742633821687727, 0.11861524544953737, 0.04570006045920307, 0.015584058092597173, 0.0022388438075256457, 0.03507153684180427, 0.008677298910747294, 0.008836749205244368, 0.003231150218337849]\n",
      "0.9999999999999999\n"
     ]
    }
   ],
   "source": [
    "import random\n",
    "import numpy as np\n",
    "\n",
    "def generate_random_numbers_with_constraints(total_sum, num_numbers, constraints):\n",
    "    # Verificar se o número de restrições é igual ao número de números\n",
    "    if len(constraints) != num_numbers:\n",
    "        raise ValueError(\"O número de restrições deve ser igual ao número de números.\")\n",
    "\n",
    "    # Gerar números aleatórios dentro das restrições\n",
    "    numbers = []\n",
    "    for constraint in constraints:\n",
    "        if constraint['type'] == 'uniform':\n",
    "            random_value = random.uniform(constraint['min_value'], constraint['max_value'])\n",
    "        elif constraint['type'] == 'normal':\n",
    "            random_value = np.random.normal(constraint['mean'], constraint['std_dev'])\n",
    "            random_value = max(constraint['min_value'], min(constraint['max_value'], random_value))\n",
    "        else:\n",
    "            raise ValueError(f\"Tipo de restrição inválido: {constraint['type']}\")\n",
    "\n",
    "        numbers.append(random_value)\n",
    "\n",
    "    # Normalizar os números para a soma total desejada\n",
    "    sum_numbers = sum(numbers)\n",
    "    normalized_numbers = [number * (total_sum / sum_numbers) for number in numbers]\n",
    "    \n",
    "    return normalized_numbers\n",
    "\n",
    "# Exemplo de uso\n",
    "target_sum = 1\n",
    "num_random_numbers = 11\n",
    "constraints = [\n",
    "    {'type': 'uniform', 'min_value': 0, 'max_value': 1},\n",
    "    {'type': 'uniform', 'min_value': 0, 'max_value': 1},\n",
    "    {'type': 'uniform', 'min_value': 0, 'max_value': 1},\n",
    "    {'type': 'uniform', 'min_value': 0, 'max_value': 1},\n",
    "    {'type': 'uniform', 'min_value': 0, 'max_value': 0.4},\n",
    "    {'type': 'uniform', 'min_value': 0, 'max_value': 0.05},\n",
    "    {'type': 'uniform', 'min_value': 0, 'max_value': 0.1},\n",
    "    {'type': 'uniform', 'min_value': 0, 'max_value': 1},\n",
    "    {'type': 'uniform', 'min_value': 0, 'max_value': 0.05},\n",
    "    {'type': 'uniform', 'min_value': 0, 'max_value': 0.05},\n",
    "    {'type': 'uniform', 'min_value': 0, 'max_value': 0.02},\n",
    "\n",
    "# Acho que preciso fazer outro código desse só para as colunas que precisam somar um valor expecífico \n",
    "# lá no solverda tabela. Assim eu consigo fazer com que essa gere um valor ate x% a outra até x%, e\n",
    "# e soma das duas vai ser 100% da carteira do clinte. Provavel que desse jeito de bom <3 \n",
    "\n",
    "#     {'type': 'normal', 'mean': 40, 'std_dev': 5, 'min_value': 20, 'max_value': 60},\n",
    "\n",
    "]\n",
    "\n",
    "random_numbers = generate_random_numbers_with_constraints(target_sum, num_random_numbers, constraints)\n",
    "print(random_numbers)\n",
    "print(sum(random_numbers))"
   ]
  }
 ],
 "metadata": {
  "kernelspec": {
   "display_name": "Python 3 (ipykernel)",
   "language": "python",
   "name": "python3"
  },
  "language_info": {
   "codemirror_mode": {
    "name": "ipython",
    "version": 3
   },
   "file_extension": ".py",
   "mimetype": "text/x-python",
   "name": "python",
   "nbconvert_exporter": "python",
   "pygments_lexer": "ipython3",
   "version": "3.10.8"
  }
 },
 "nbformat": 4,
 "nbformat_minor": 5
}
